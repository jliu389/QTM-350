{
 "cells": [
  {
   "cell_type": "markdown",
   "metadata": {},
   "source": [
    "# Retrieving API Data"
   ]
  },
  {
   "cell_type": "markdown",
   "metadata": {},
   "source": [
    "### Getting API and Access Token\n",
    "**42matters** provides App Reviews API for Apple App Store iOS Apps. We can get information such as dates, ratings of the app, and review contents. From [here](https://42matters.com/docs/app-market-data/ios/apps/reviews), you can sign up for free and get an access token on a 14-day trial. \n",
    "\n",
    "![Notebook instance settings](./App-Reviews-API.png)"
   ]
  },
  {
   "cell_type": "markdown",
   "metadata": {},
   "source": [
    "#### API key and `getpass`\n",
    "Below, we are using a python package called getpass. On the first line of the code cell below, `import getpass` will load all of the functions that are available in the getpass package into memory on our notebook's machine. \n",
    "\n",
    "Then, we use the function `getpass()` by referring to where it is located with `getpass.getpass()` and storing the output of that function in a variable we are calling `APIKEY`."
   ]
  },
  {
   "cell_type": "code",
   "execution_count": null,
   "metadata": {},
   "outputs": [],
   "source": [
    "import getpass\n",
    "APIKEY = getpass.getpass()"
   ]
  },
  {
   "cell_type": "markdown",
   "metadata": {},
   "source": [
    "### Saving and filtering the results of a API call\n",
    "The output is in json format, but it is really hard to read. Let's save it to another file. Then we will use another tool to filter the json file down to the information we are interested in.\n",
    "#### Saving output\n",
    "To save the output, we add another argument to the curl command, `-o`, and then after it, we write a name for the file."
   ]
  },
  {
   "cell_type": "code",
   "execution_count": 41,
   "metadata": {},
   "outputs": [
    {
     "name": "stdout",
     "output_type": "stream",
     "text": [
      "  % Total    % Received % Xferd  Average Speed   Time    Time     Time  Current\n",
      "                                 Dload  Upload   Total   Spent    Left  Speed\n",
      "100   184  100   184    0     0   2453      0 --:--:-- --:--:-- --:--:--  2453\n"
     ]
    }
   ],
   "source": [
    "!curl --request GET -o facebook-app-review01.json \"https://data.42matters.com/api/v2.0/ios/apps/reviews.json?id=284882215&access_token=$APIKEY&days=30&limit=100&lang=en\""
   ]
  },
  {
   "cell_type": "markdown",
   "metadata": {},
   "source": [
    "### Viewing and filtering the JSON with `jq`\n",
    "[`jq`](https://stedolan.github.io/jq/)is a command line tool for  slicing, filtering, transforming JSON data. \n",
    "\n",
    "First we install it with the cell below."
   ]
  },
  {
   "cell_type": "code",
   "execution_count": 42,
   "metadata": {},
   "outputs": [
    {
     "name": "stdout",
     "output_type": "stream",
     "text": [
      "Loaded plugins: dkms-build-requires, priorities, update-motd, upgrade-helper,\n",
      "              : versionlock\n",
      "amzn-main                                                | 2.1 kB     00:00     \n",
      "amzn-updates                                             | 3.8 kB     00:00     \n",
      "Package jq-1.5-1.2.amzn1.x86_64 already installed and latest version\n",
      "Nothing to do\n"
     ]
    }
   ],
   "source": [
    "!sudo yum install jq"
   ]
  },
  {
   "cell_type": "markdown",
   "metadata": {},
   "source": [
    "Next, we redirect our file to jq with the < symbol."
   ]
  },
  {
   "cell_type": "code",
   "execution_count": 43,
   "metadata": {},
   "outputs": [
    {
     "name": "stdout",
     "output_type": "stream",
     "text": [
      "\u001b[1;39m{\n",
      "  \u001b[0m\u001b[34;1m\"statusCode\"\u001b[0m\u001b[1;39m: \u001b[0m\u001b[0;39m403\u001b[0m\u001b[1;39m,\n",
      "  \u001b[0m\u001b[34;1m\"message\"\u001b[0m\u001b[1;39m: \u001b[0m\u001b[0;32m\"Token missing or invalid\"\u001b[0m\u001b[1;39m,\n",
      "  \u001b[0m\u001b[34;1m\"request\"\u001b[0m\u001b[1;39m: \u001b[0m\u001b[0;32m\"http://data.42matters.com/api/v2.0/ios/apps/reviews.json?id=284882215&access_token=&days=30&limit=100&lang=en\"\u001b[0m\u001b[1;39m\n",
      "\u001b[1;39m}\u001b[0m\n"
     ]
    }
   ],
   "source": [
    "!jq < facebook-app-review01.json"
   ]
  },
  {
   "cell_type": "markdown",
   "metadata": {},
   "source": [
    "### Filtering using `jq`\n",
    "To filter based on key, use `jq '.key'`, where `.key` is one of the keys from the JSON file, and `jq` will return the corresponding values in the JSON. For example, we filter on the key `reviews` in the cell below for Facebook App Reviews."
   ]
  },
  {
   "cell_type": "code",
   "execution_count": 39,
   "metadata": {},
   "outputs": [
    {
     "name": "stdout",
     "output_type": "stream",
     "text": [
      "\u001b[1;30mnull\u001b[0m\n"
     ]
    }
   ],
   "source": [
    "!jq '.reviews' < facebook-app-review01.json"
   ]
  },
  {
   "cell_type": "markdown",
   "metadata": {},
   "source": [
    "Let's dig deeper and look at the values for the key `content`. Since it is within the values of the key `reviews`, we will use  `.reviews[].content` to filter out the review contents. "
   ]
  },
  {
   "cell_type": "code",
   "execution_count": null,
   "metadata": {},
   "outputs": [],
   "source": [
    "!jq 'reviews[].content ' < facebook-app-review01.json  >facebook-app-review1.json"
   ]
  },
  {
   "cell_type": "markdown",
   "metadata": {},
   "source": [
    "### From JSON to csv\n",
    "For working with structured data in notebooks, the most popular and full-featured packages is `pandas`.  It can tranform our JSON into a csv file.\n",
    "\n",
    "First we import the pandas package."
   ]
  },
  {
   "cell_type": "code",
   "execution_count": 2,
   "metadata": {},
   "outputs": [],
   "source": [
    "import pandas as pd"
   ]
  },
  {
   "cell_type": "markdown",
   "metadata": {},
   "source": [
    "Then, we use the `read_json()` function in pandas to transform our filtered JSON into a *dataframe*."
   ]
  },
  {
   "cell_type": "code",
   "execution_count": 5,
   "metadata": {},
   "outputs": [
    {
     "data": {
      "text/html": [
       "<div>\n",
       "<style scoped>\n",
       "    .dataframe tbody tr th:only-of-type {\n",
       "        vertical-align: middle;\n",
       "    }\n",
       "\n",
       "    .dataframe tbody tr th {\n",
       "        vertical-align: top;\n",
       "    }\n",
       "\n",
       "    .dataframe thead th {\n",
       "        text-align: right;\n",
       "    }\n",
       "</style>\n",
       "<table border=\"1\" class=\"dataframe\">\n",
       "  <thead>\n",
       "    <tr style=\"text-align: right;\">\n",
       "      <th></th>\n",
       "      <th>rating</th>\n",
       "      <th>review</th>\n",
       "    </tr>\n",
       "  </thead>\n",
       "  <tbody>\n",
       "    <tr>\n",
       "      <th>0</th>\n",
       "      <td>1</td>\n",
       "      <td>I keep getting logged out of the Facebook app ...</td>\n",
       "    </tr>\n",
       "    <tr>\n",
       "      <th>1</th>\n",
       "      <td>1</td>\n",
       "      <td>Latest update is terrible.  Back button doesn’...</td>\n",
       "    </tr>\n",
       "    <tr>\n",
       "      <th>2</th>\n",
       "      <td>1</td>\n",
       "      <td>The latest update is full of glitches on the i...</td>\n",
       "    </tr>\n",
       "    <tr>\n",
       "      <th>3</th>\n",
       "      <td>1</td>\n",
       "      <td>With new iPad update version 14. Come on Faceb...</td>\n",
       "    </tr>\n",
       "    <tr>\n",
       "      <th>4</th>\n",
       "      <td>1</td>\n",
       "      <td>The latest update of FB has left me unable to ...</td>\n",
       "    </tr>\n",
       "    <tr>\n",
       "      <th>...</th>\n",
       "      <td>...</td>\n",
       "      <td>...</td>\n",
       "    </tr>\n",
       "    <tr>\n",
       "      <th>9995</th>\n",
       "      <td>1</td>\n",
       "      <td>This version keeps freezing on iPad, the back ...</td>\n",
       "    </tr>\n",
       "    <tr>\n",
       "      <th>9996</th>\n",
       "      <td>1</td>\n",
       "      <td>It’s nearly 2021, can’t believe Facebook don’t...</td>\n",
       "    </tr>\n",
       "    <tr>\n",
       "      <th>9997</th>\n",
       "      <td>1</td>\n",
       "      <td>If I could give zero stars then I would. They ...</td>\n",
       "    </tr>\n",
       "    <tr>\n",
       "      <th>9998</th>\n",
       "      <td>1</td>\n",
       "      <td>Why can’t I view or post story’s?</td>\n",
       "    </tr>\n",
       "    <tr>\n",
       "      <th>9999</th>\n",
       "      <td>1</td>\n",
       "      <td>After the last update for iPad Facebook is fre...</td>\n",
       "    </tr>\n",
       "  </tbody>\n",
       "</table>\n",
       "<p>10000 rows × 2 columns</p>\n",
       "</div>"
      ],
      "text/plain": [
       "      rating                                             review\n",
       "0          1  I keep getting logged out of the Facebook app ...\n",
       "1          1  Latest update is terrible.  Back button doesn’...\n",
       "2          1  The latest update is full of glitches on the i...\n",
       "3          1  With new iPad update version 14. Come on Faceb...\n",
       "4          1  The latest update of FB has left me unable to ...\n",
       "...      ...                                                ...\n",
       "9995       1  This version keeps freezing on iPad, the back ...\n",
       "9996       1  It’s nearly 2021, can’t believe Facebook don’t...\n",
       "9997       1  If I could give zero stars then I would. They ...\n",
       "9998       1                  Why can’t I view or post story’s?\n",
       "9999       1  After the last update for iPad Facebook is fre...\n",
       "\n",
       "[10000 rows x 2 columns]"
      ]
     },
     "execution_count": 5,
     "metadata": {},
     "output_type": "execute_result"
    }
   ],
   "source": [
    "pd.read_json('facebook-app-review1.json', orient='records')"
   ]
  },
  {
   "cell_type": "markdown",
   "metadata": {},
   "source": [
    "Let's save the dataframe as a Python variable, which we will call `df1`, so that we can use it for more purposes than just viewing."
   ]
  },
  {
   "cell_type": "code",
   "execution_count": 6,
   "metadata": {},
   "outputs": [],
   "source": [
    "df1=pd.read_json('facebook-app-review1.json', orient='records')\n",
    "df1=df1[['review']]"
   ]
  },
  {
   "cell_type": "markdown",
   "metadata": {},
   "source": [
    "A dataframe consists of a *header*, where you find the names of the *columns*, *rows* where you find the values in those columns, and an *index* where you can find the row number. So this includes the information you find in a csv. Indeed, we can write this to a .csv file with the following pandas function."
   ]
  },
  {
   "cell_type": "code",
   "execution_count": 7,
   "metadata": {},
   "outputs": [],
   "source": [
    "df1.to_csv('facebook-app-review1.csv')"
   ]
  },
  {
   "cell_type": "code",
   "execution_count": 8,
   "metadata": {},
   "outputs": [
    {
     "name": "stdout",
     "output_type": "stream",
     "text": [
      "                                              review\n",
      "0  I keep getting logged out of the Facebook app ...\n",
      "1  Latest update is terrible.  Back button doesn’...\n",
      "2  The latest update is full of glitches on the i...\n",
      "3  With new iPad update version 14. Come on Faceb...\n",
      "4  The latest update of FB has left me unable to ...\n"
     ]
    }
   ],
   "source": [
    "print(df1.head()) "
   ]
  },
  {
   "cell_type": "markdown",
   "metadata": {},
   "source": [
    "# Store Data into S3"
   ]
  },
  {
   "cell_type": "markdown",
   "metadata": {},
   "source": [
    "### Set up an IAM Role\n",
    "In order to use this API within Sagemaker, we will need to update the Role we have been using to control Sagemaker permissions.\n",
    "\n",
    "#### Where can I find that role?\n",
    "Go to your Sagemaker dashboard, then notebook instances, then click the notebook instance name to access the page for the \"Notebook instance settings\". You should then see the page below.\n",
    "\n",
    "![Notebook instance settings](./Permission.png)\n",
    "\n",
    "\n",
    "There, under the heading \"Permissions and encryption\" click the link to the IAM role ARN. You should then see a view similar to this one below.\n",
    "\n",
    "\n",
    "![Notebook instance settings](./IAM.png) \n",
    "\n",
    "#### Adding policies\n",
    "As we work with new AWS services within our notebooks, it will be necessary to add policies which give Sagemaker access to them. To use the examples we will present for working with Amazon Comprehend, you will need to add `ComprehendFullAccess` permissions.\n",
    "\n",
    "To add them, in the IAM role Summary page (pictured in the last screenshot), click the blue \"Attach policies\" button. In the search bar, type the names of these services that were just listed, select them by ticking the empty white box next to the name when it appears, and then click the blue \"Attach policy\" button. \n",
    "\n",
    "`AdministratorAccess` also needs to be added for creating IAM Role for Amazon Comprehend later on.\n",
    "\n",
    "### Getting started using the console\n",
    "Before using the Comprehend service programatically, it will be helpful to understand what it does by walking through examples in the AWS console [here](https://console.aws.amazon.com/comprehend/home?region=us-east-1#home)."
   ]
  },
  {
   "cell_type": "markdown",
   "metadata": {},
   "source": [
    "### Working with the Comprehend API programatically\n",
    "In this section, you use the Amazon Comprehend API operations to analyze text.\n",
    "\n",
    "### Set up the AWS CLI\n",
    "In any new Sagemaker instance, the AWS CLI (Command Line Interface) comes preinstalled. Indeed, to check that this is the case, run the command below."
   ]
  },
  {
   "cell_type": "code",
   "execution_count": null,
   "metadata": {},
   "outputs": [],
   "source": [
    "!aws s3 help"
   ]
  },
  {
   "cell_type": "markdown",
   "metadata": {},
   "source": [
    "Next, let's create a S3 bucket called `sentiment-review-facebook`."
   ]
  },
  {
   "cell_type": "code",
   "execution_count": 1,
   "metadata": {},
   "outputs": [
    {
     "name": "stdout",
     "output_type": "stream",
     "text": [
      "make_bucket: sentiment-review-facebook\n"
     ]
    }
   ],
   "source": [
    "!aws s3 mb s3://sentiment-review-facebook"
   ]
  },
  {
   "cell_type": "markdown",
   "metadata": {},
   "source": [
    "To ensure that your bucket was created successfully, run the following command."
   ]
  },
  {
   "cell_type": "code",
   "execution_count": 5,
   "metadata": {},
   "outputs": [
    {
     "name": "stdout",
     "output_type": "stream",
     "text": [
      "2020-10-27 16:38:45 amazon--comprehend\n",
      "2020-11-01 22:57:36 sentiment-review-facebook\n",
      "2020-10-20 22:24:28 source--image\n",
      "2020-10-20 22:24:37 target--bucket\n",
      "2020-10-18 19:41:13 walkthrough--notebook\n"
     ]
    }
   ],
   "source": [
    "!aws s3 ls"
   ]
  },
  {
   "cell_type": "markdown",
   "metadata": {},
   "source": [
    "### Upload Input Data\n",
    "By adding the path /input/ at the end, Amazon S3 automatically creates a new folder called input in your bucket and uploads the dataset file to that folder."
   ]
  },
  {
   "cell_type": "code",
   "execution_count": 9,
   "metadata": {},
   "outputs": [
    {
     "name": "stdout",
     "output_type": "stream",
     "text": [
      "upload: ./facebook-app-review1.csv to s3://sentiment-review-facebook/input/facebook-app-review1.csv\n"
     ]
    }
   ],
   "source": [
    "!aws s3 cp facebook-app-review1.csv s3://sentiment-review-facebook/input/"
   ]
  },
  {
   "cell_type": "markdown",
   "metadata": {},
   "source": [
    "To ensure that your file was uploaded successfully, run the following command. The command lists the contents of your bucket's `input` folder."
   ]
  },
  {
   "cell_type": "code",
   "execution_count": 10,
   "metadata": {},
   "outputs": [
    {
     "name": "stdout",
     "output_type": "stream",
     "text": [
      "2020-11-14 22:41:34      20265 facebook-app-review1.csv\n"
     ]
    }
   ],
   "source": [
    "!aws s3 ls sentiment-review-facebook/input/"
   ]
  },
  {
   "cell_type": "markdown",
   "metadata": {},
   "source": [
    "# Creating IAM Role for Amazon Comprehend\n",
    "### To Create IAM Role"
   ]
  },
  {
   "cell_type": "markdown",
   "metadata": {},
   "source": [
    "Save the following trust policy as a JSON document called `comprehend-trust-policy.json` in a code or text editor. This trust policy declares Amazon Comprehend as a trusted entity and allows it to assume an IAM role.\n",
    "\n",
    "{\n",
    "  \n",
    "  \"Version\": \"2012-10-17\",  \n",
    "  \"Statement\": [  \n",
    "    \n",
    "    {    \n",
    "      \"Effect\": \"Allow\",      \n",
    "      \"Principal\": {      \n",
    "        \"Service\": \"comprehend.amazonaws.com\"        \n",
    "      },      \n",
    "      \"Action\": \"sts:AssumeRole\"      \n",
    "    }\n",
    "  ]  \n",
    "}"
   ]
  },
  {
   "cell_type": "markdown",
   "metadata": {},
   "source": [
    "To create the IAM role, run the following AWS CLI command. The command creates an IAM role called comprehend-access-role and attaches the trust policy to the role."
   ]
  },
  {
   "cell_type": "code",
   "execution_count": 15,
   "metadata": {},
   "outputs": [
    {
     "name": "stdout",
     "output_type": "stream",
     "text": [
     ]
    }
   ],
   "source": [
    "!aws iam create-role --role-name comprehend-access-role --assume-role-policy-document file:///home/ec2-user/SageMaker/comprehend-trust-policy.json"
   ]
  },
  {
   "cell_type": "markdown",
   "metadata": {},
   "source": [
    "Copy the Amazon Resource Name (ARN) and save it in a text editor. You need this ARN to run Amazon Comprehend analysis jobs."
   ]
  },
  {
   "cell_type": "markdown",
   "metadata": {},
   "source": [
    "### To Create IAM Policy"
   ]
  },
  {
   "cell_type": "markdown",
   "metadata": {},
   "source": [
    "Save the following policy locally as a JSON document called `comprehend-access-policy.json`. It grants Amazon Comprehend access to the specified S3 bucket.\n",
    "\n",
    "{\n",
    "    \n",
    "    \"Version\": \"2012-10-17\",\n",
    "    \"Statement\": [\n",
    "        {\n",
    "            \"Action\": [\n",
    "                \"s3:GetObject\"\n",
    "            ],\n",
    "            \"Resource\": [\n",
    "                \"arn:aws:s3:::DOC-EXAMPLE-BUCKET/*\"\n",
    "            ],\n",
    "            \"Effect\": \"Allow\"\n",
    "        },\n",
    "        {\n",
    "            \"Action\": [\n",
    "                \"s3:ListBucket\"\n",
    "            ],\n",
    "            \"Resource\": [\n",
    "                \"arn:aws:s3:::DOC-EXAMPLE-BUCKET\"\n",
    "            ],\n",
    "            \"Effect\": \"Allow\"\n",
    "        },\n",
    "        {\n",
    "            \"Action\": [\n",
    "                \"s3:PutObject\"\n",
    "            ],\n",
    "            \"Resource\": [\n",
    "                \"arn:aws:s3:::DOC-EXAMPLE-BUCKET/*\"\n",
    "            ],\n",
    "            \"Effect\": \"Allow\"\n",
    "        }\n",
    "    ]\n",
    "}"
   ]
  },
  {
   "cell_type": "markdown",
   "metadata": {},
   "source": [
    "To create the S3 bucket access policy, run the following AWS CLI command."
   ]
  },
  {
   "cell_type": "code",
   "execution_count": 32,
   "metadata": {},
   "outputs": [
    {
     "name": "stdout",
     "output_type": "stream",
     "text": [
      "{\n",
      "    \"Policy\": {\n",
      "        \"PolicyName\": \"comprehend-access-policy1\",\n",
      "        \"PolicyId\": \"ANPA37N6TL5R567GU2MBR\",\n",
      "        \"Arn\": \"arn:aws:iam::823422836579:policy/comprehend-access-policy1\",\n",
      "        \"Path\": \"/\",\n",
      "        \"DefaultVersionId\": \"v1\",\n",
      "        \"AttachmentCount\": 0,\n",
      "        \"PermissionsBoundaryUsageCount\": 0,\n",
      "        \"IsAttachable\": true,\n",
      "        \"CreateDate\": \"2020-11-04T00:38:25Z\",\n",
      "        \"UpdateDate\": \"2020-11-04T00:38:25Z\"\n",
      "    }\n",
      "}\n"
     ]
    }
   ],
   "source": [
    "!aws iam create-policy --policy-name comprehend-access-policy1 --policy-document file:///home/ec2-user/SageMaker/comprehend-access-policy.json"
   ]
  },
  {
   "cell_type": "markdown",
   "metadata": {},
   "source": [
    "Copy the access policy ARN and save it in a text editor.\n",
    "You need this ARN to attach your access policy to your IAM role."
   ]
  },
  {
   "cell_type": "markdown",
   "metadata": {},
   "source": [
    "### To Attach IAM Policy IAM Role"
   ]
  },
  {
   "cell_type": "code",
   "execution_count": 33,
   "metadata": {},
   "outputs": [],
   "source": [
    "!aws iam attach-role-policy --policy-arn arn:aws:iam::823422836579:policy/comprehend-access-policy1 --role-name comprehend-access-role"
   ]
  },
  {
   "cell_type": "markdown",
   "metadata": {},
   "source": [
    "You now have an IAM role called `comprehend-access-role` that has a trust policy for Amazon Comprehend and an access policy that grants Amazon Comprehend access to your S3 bucket. "
   ]
  },
  {
   "cell_type": "markdown",
   "metadata": {},
   "source": [
    "# Running AWS Comprehend Analysis"
   ]
  },
  {
   "cell_type": "code",
   "execution_count": 11,
   "metadata": {},
   "outputs": [
    {
     "name": "stdout",
     "output_type": "stream",
     "text": [
      "{\n",
      "    \"JobId\": \"c3c37495ed423dc20eabae704a151ab9\",\n",
      "    \"JobStatus\": \"SUBMITTED\"\n",
      "}\n"
     ]
    }
   ],
   "source": [
    "!aws comprehend start-sentiment-detection-job --input-data-config S3Uri=s3://sentiment-review-facebook/input/ --output-data-config S3Uri=s3://sentiment-review-facebook/output/ --data-access-role-arn arn:aws:iam::823422836579:role/comprehend-access-role --job-name reviews-sentiment-analysis --language-code en --region us-east-1 "
   ]
  },
  {
   "cell_type": "markdown",
   "metadata": {},
   "source": [
    "After you submit the job, copy the `JobId` and save it to a text editor. You will need the JobId to find the output files from the analysis job."
   ]
  },
  {
   "cell_type": "code",
   "execution_count": 16,
   "metadata": {},
   "outputs": [
    {
     "name": "stdout",
     "output_type": "stream",
     "text": [
      "{\n",
      "    \"SentimentDetectionJobProperties\": {\n",
      "        \"JobId\": \"c3c37495ed423dc20eabae704a151ab9\",\n",
      "        \"JobName\": \"reviews-sentiment-analysis\",\n",
      "        \"JobStatus\": \"COMPLETED\",\n",
      "        \"SubmitTime\": 1605393728.852,\n",
      "        \"EndTime\": 1605394223.931,\n",
      "        \"InputDataConfig\": {\n",
      "            \"S3Uri\": \"s3://sentiment-review-facebook/input/\",\n",
      "            \"InputFormat\": \"ONE_DOC_PER_LINE\"\n",
      "        },\n",
      "        \"OutputDataConfig\": {\n",
      "            \"S3Uri\": \"s3://sentiment-review-facebook/output/823422836579-SENTIMENT-c3c37495ed423dc20eabae704a151ab9/output/output.tar.gz\"\n",
      "        },\n",
      "        \"LanguageCode\": \"en\",\n",
      "        \"DataAccessRoleArn\": \"arn:aws:iam::823422836579:role/comprehend-access-role\"\n",
      "    }\n",
      "}\n"
     ]
    }
   ],
   "source": [
    "!aws comprehend describe-sentiment-detection-job --job-id c3c37495ed423dc20eabae704a151ab9"
   ]
  },
  {
   "cell_type": "markdown",
   "metadata": {},
   "source": [
    "# Preparing the Output\n",
    "### Download Output Files"
   ]
  },
  {
   "cell_type": "markdown",
   "metadata": {},
   "source": [
    "In the OutputDataConfig object, find the `S3Uri` value. And download the sentiment output archive to your local directory."
   ]
  },
  {
   "cell_type": "code",
   "execution_count": 22,
   "metadata": {},
   "outputs": [
    {
     "name": "stdout",
     "output_type": "stream",
     "text": [
      "download: s3://sentiment-review-facebook/output/823422836579-SENTIMENT-c3c37495ed423dc20eabae704a151ab9/output/output.tar.gz to ./sentiment-output.tar.gz\n"
     ]
    }
   ],
   "source": [
    "!aws s3 cp s3://sentiment-review-facebook/output/823422836579-SENTIMENT-c3c37495ed423dc20eabae704a151ab9/output/output.tar.gz /home/ec2-user/SageMaker/sentiment-output.tar.gz"
   ]
  },
  {
   "cell_type": "markdown",
   "metadata": {},
   "source": [
    "### Extract Output Files"
   ]
  },
  {
   "cell_type": "code",
   "execution_count": 26,
   "metadata": {},
   "outputs": [
    {
     "name": "stdout",
     "output_type": "stream",
     "text": [
      "output\n"
     ]
    }
   ],
   "source": [
    "!tar -xvf sentiment-output.tar.gz --transform 's,^,sentiment-,'"
   ]
  },
  {
   "cell_type": "markdown",
   "metadata": {},
   "source": [
    "### Upload Output Files to S3"
   ]
  },
  {
   "cell_type": "code",
   "execution_count": 24,
   "metadata": {},
   "outputs": [
    {
     "name": "stdout",
     "output_type": "stream",
     "text": [
      "upload: ./sentiment-output to s3://sentiment-review-facebook/sentiment-results/sentiment-output\n"
     ]
    }
   ],
   "source": [
    "!aws s3 cp /home/ec2-user/SageMaker/sentiment-output s3://sentiment-review-facebook/sentiment-results/"
   ]
  },
  {
   "cell_type": "markdown",
   "metadata": {},
   "source": [
    "### To load the data into an AWS Glue Data Catalog"
   ]
  },
  {
   "cell_type": "markdown",
   "metadata": {},
   "source": [
    "To create an IAM role for AWS Glue, save the following trust policy as a JSON document called `glue-trust-policy.json`.\n",
    "\n",
    "{\n",
    "\n",
    "  \"Version\": \"2012-10-17\",\n",
    "  \"Statement\": [\n",
    "  \n",
    "    {\n",
    "      \"Effect\": \"Allow\",\n",
    "      \"Principal\": {\n",
    "        \"Service\": \"glue.amazonaws.com\"\n",
    "      },\n",
    "      \"Action\": \"sts:AssumeRole\"\n",
    "    }\n",
    "    \n",
    "  ]\n",
    "  \n",
    "}"
   ]
  },
  {
   "cell_type": "code",
   "execution_count": 49,
   "metadata": {},
   "outputs": [
    {
     "name": "stdout",
     "output_type": "stream",
     "text": [
      "{\n",
      "    \"Role\": {\n",
      "        \"Path\": \"/\",\n",
      "        \"RoleName\": \"glue-access-role\",\n",
      "        \"RoleId\": \"AROA37N6TL5R4XNCT64LE\",\n",
      "        \"Arn\": \"arn:aws:iam::823422836579:role/glue-access-role\",\n",
      "        \"CreateDate\": \"2020-11-04T01:02:32Z\",\n",
      "        \"AssumeRolePolicyDocument\": {\n",
      "            \"Version\": \"2012-10-17\",\n",
      "            \"Statement\": [\n",
      "                {\n",
      "                    \"Effect\": \"Allow\",\n",
      "                    \"Principal\": {\n",
      "                        \"Service\": \"glue.amazonaws.com\"\n",
      "                    },\n",
      "                    \"Action\": \"sts:AssumeRole\"\n",
      "                }\n",
      "            ]\n",
      "        }\n",
      "    }\n",
      "}\n"
     ]
    }
   ],
   "source": [
    "!aws iam create-role --role-name glue-access-role --assume-role-policy-document file:///home/ec2-user/SageMaker/glue-trust-policy.json"
   ]
  },
  {
   "cell_type": "markdown",
   "metadata": {},
   "source": [
    "Save Amazon Resource Number (ARN) for the new role."
   ]
  },
  {
   "cell_type": "markdown",
   "metadata": {},
   "source": [
    "Save the following IAM policy as a JSON document called `glue-access-policy.json`. The policy grants AWS Glue permission to crawl your results folders.\n",
    "\n",
    "{\n",
    "\n",
    "    \"Version\": \"2012-10-17\",\n",
    "    \"Statement\": [\n",
    "        {\n",
    "            \"Effect\": \"Allow\",\n",
    "            \"Action\": [\n",
    "                \"s3:GetObject\",\n",
    "                \"s3:PutObject\"\n",
    "            ],\n",
    "            \"Resource\": [\n",
    "                \"arn:aws:s3:::DOC-EXAMPLE-BUCKET/sentiment-results*\"\n",
    "            ]\n",
    "        }\n",
    "    ]\n",
    "}"
   ]
  },
  {
   "cell_type": "code",
   "execution_count": 52,
   "metadata": {},
   "outputs": [
    {
     "name": "stdout",
     "output_type": "stream",
     "text": [
      "{\n",
      "    \"Policy\": {\n",
      "        \"PolicyName\": \"glue-access-policy\",\n",
      "        \"PolicyId\": \"ANPA37N6TL5RSZYTS6QNA\",\n",
      "        \"Arn\": \"arn:aws:iam::823422836579:policy/glue-access-policy\",\n",
      "        \"Path\": \"/\",\n",
      "        \"DefaultVersionId\": \"v1\",\n",
      "        \"AttachmentCount\": 0,\n",
      "        \"PermissionsBoundaryUsageCount\": 0,\n",
      "        \"IsAttachable\": true,\n",
      "        \"CreateDate\": \"2020-11-04T01:06:08Z\",\n",
      "        \"UpdateDate\": \"2020-11-04T01:06:08Z\"\n",
      "    }\n",
      "}\n"
     ]
    }
   ],
   "source": [
    "!aws iam create-policy --policy-name glue-access-policy --policy-document file:///home/ec2-user/SageMaker/glue-access-policy.json"
   ]
  },
  {
   "cell_type": "markdown",
   "metadata": {},
   "source": [
    "Save ARN again and attach the new policy to the IAM role."
   ]
  },
  {
   "cell_type": "code",
   "execution_count": 54,
   "metadata": {},
   "outputs": [],
   "source": [
    "!aws iam attach-role-policy --policy-arn arn:aws:iam::823422836579:policy/glue-access-policy --role-name glue-access-role"
   ]
  },
  {
   "cell_type": "markdown",
   "metadata": {},
   "source": [
    "Attach the AWS managed policy AWSGlueServiceRole to your IAM role by running the following command."
   ]
  },
  {
   "cell_type": "code",
   "execution_count": 55,
   "metadata": {},
   "outputs": [],
   "source": [
    "!aws iam attach-role-policy --policy-arn arn:aws:iam::aws:policy/service-role/AWSGlueServiceRole --role-name glue-access-role"
   ]
  },
  {
   "cell_type": "markdown",
   "metadata": {},
   "source": [
    "Create an AWS Glue database by running the following command."
   ]
  },
  {
   "cell_type": "code",
   "execution_count": 4,
   "metadata": {},
   "outputs": [
    {
     "name": "stdout",
     "output_type": "stream",
     "text": [
     ]
    }
   ],
   "source": [
    "!aws glue create-database --database-input Name=\"comprehend-results\""
   ]
  },
  {
   "cell_type": "markdown",
   "metadata": {},
   "source": [
    "Create a new AWS Glue crawler."
   ]
  },
  {
   "cell_type": "code",
   "execution_count": 3,
   "metadata": {},
   "outputs": [
    {
     "name": "stdout",
     "output_type": "stream",
     "text": [
     ]
    }
   ],
   "source": [
    "!aws glue create-crawler --name comprehend-analysis-crawler --role arn:aws:iam::823422836579:role/glue-access-role  --targets S3Targets=[{Path=\"s3://sentiment-review-facebook/sentiment-results\"}] --database-name comprehend-results"
   ]
  },
  {
   "cell_type": "markdown",
   "metadata": {},
   "source": [
    "Start the crawler."
   ]
  },
  {
   "cell_type": "code",
   "execution_count": 66,
   "metadata": {},
   "outputs": [],
   "source": [
    "!aws glue start-crawler --name comprehend-analysis-crawler"
   ]
  },
  {
   "cell_type": "markdown",
   "metadata": {},
   "source": [
    "### Prepare the Data for Analysis"
   ]
  },
  {
   "cell_type": "markdown",
   "metadata": {},
   "source": [
    "Now you have a database populated with the Amazon Comprehend results. However, the results are nested. To unnest them, you run a few SQL statements in Amazon Athena. Amazon Athena is an interactive query service that makes it easy to analyze data in Amazon S3 using standard SQL. Athena is serverless, so there is no infrastructure to manage and it has a pay-per-query pricing model. In this step, you create new tables of cleaned data that you can use for analysis and visualization. You use the Athena console to prepare the data."
   ]
  },
  {
   "cell_type": "markdown",
   "metadata": {},
   "source": [
    "Open the [Athena console](https://console.aws.amazon.com/athena/).\n",
    "\n",
    "In the navigation bar, choose Settings.\n",
    "\n",
    "For Query result location, enter s3://DOC-EXAMPLE-BUCKET/query-results/. This creates a new folder called query-results in your bucket that stores the output of the Amazon Athena queries you run. Choose Save.\n",
    "\n",
    "In the navigation bar, choose Query editor.\n",
    "\n",
    "For Database, choose the AWS Glue database `comprehend-results` that you created.\n",
    "\n",
    "In the Tables section, you should have one table called sentiment_results. Preview the table to make sure that the crawler loaded the data. In table’s options, choose Preview table. A short query runs automatically. Check the Results pane to ensure that the table contain data.\n",
    "\n",
    "To unnest the `sentiment_results table`, enter the following query in the **Query editor** and choose **Run query**.\n",
    "\n",
    "*CREATE TABLE sentiment_results_final AS*\n",
    "\n",
    "*SELECT file, line, sentiment,*\n",
    "\n",
    "*sentimentscore.mixed AS mixed,*\n",
    "\n",
    "*sentimentscore.negative AS negative,*\n",
    "\n",
    "*sentimentscore.neutral AS neutral,*\n",
    "\n",
    "*sentimentscore.positive AS positive*\n",
    "\n",
    "*FROM sentiment_results*"
   ]
  },
  {
   "cell_type": "markdown",
   "metadata": {},
   "source": [
    "After obtaining the results from Athena, download the csv file. "
   ]
  },
  {
   "cell_type": "code",
   "execution_count": 22,
   "metadata": {},
   "outputs": [],
   "source": [
    "df1=pd.read_csv('facebook-app-review1.csv')"
   ]
  },
  {
   "cell_type": "code",
   "execution_count": 24,
   "metadata": {},
   "outputs": [],
   "source": [
    "df2=pd.read_csv('sentiment-output-final.csv')"
   ]
  },
  {
   "cell_type": "code",
   "execution_count": 25,
   "metadata": {},
   "outputs": [],
   "source": [
    "df1.columns =['line', 'rating', 'review'] "
   ]
  },
  {
   "cell_type": "code",
   "execution_count": 27,
   "metadata": {},
   "outputs": [],
   "source": [
    "final_dataset=pd.merge(df1, df2)"
   ]
  },
  {
   "cell_type": "code",
   "execution_count": 57,
   "metadata": {},
   "outputs": [],
   "source": [
    "final_dataset=final_dataset[['review', 'sentiment', 'mixed', 'negative', 'neutral', 'positive']]"
   ]
  },
  {
   "cell_type": "code",
   "execution_count": 58,
   "metadata": {},
   "outputs": [],
   "source": [
    "final_dataset.to_csv('final_dataset.csv')"
   ]
  },
 "metadata": {
  "kernelspec": {
   "display_name": "conda_python3",
   "language": "python",
   "name": "conda_python3"
  },
  "language_info": {
   "codemirror_mode": {
    "name": "ipython",
    "version": 3
   },
   "file_extension": ".py",
   "mimetype": "text/x-python",
   "name": "python",
   "nbconvert_exporter": "python",
   "pygments_lexer": "ipython3",
   "version": "3.6.10"
  }
 },
 "nbformat": 4,
 "nbformat_minor": 4
}
