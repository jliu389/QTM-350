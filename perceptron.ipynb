{
 "cells": [
  {
   "cell_type": "markdown",
   "metadata": {
    "id": "eEKHZsYP2Szc"
   },
   "source": [
    "# Evaluate the performance of Amazon Comprehend\n",
    "After looking at the data sample closely, we identify 17 clear misinterpretations of the sentiment. Most of the misinterpretation involves the unclarity between neutral and negative. For example, in one comment, the person states that: “No freedom! I can’t practice my right and freedom to express my ideas. They always remove my comments and freeze my account. No freedom anymore. Very controlling!” In this case, the comment seems extremely negative, but Amazon Comprehend identifies this statement as neutral with a confidence level of 0.93. To evaluate these misinterpretation, we created a new csv file, labeling correct outcome with 0 and incorrect outcome with 1. "
   ]
  },
  {
   "cell_type": "code",
   "execution_count": null,
   "metadata": {
    "id": "7tOKsS27z3QN"
   },
   "outputs": [],
   "source": [
    "import statistics\n",
    "import pandas as pd\n",
    "import matplotlib.pyplot as plt\n",
    "from scipy import stats\n",
    "\n",
    "myfile = pd.read_csv('final_dataset2.csv')\n",
    "num_0 = list()\n",
    "num_1 =list()\n",
    "confidence_level_0 = list()\n",
    "confidence_level_1 = list()\n",
    "\n"
   ]
  },
  {
   "cell_type": "markdown",
   "metadata": {
    "id": "tj5TRx9dFSnA"
   },
   "source": [
    "#Plotting the outcomes.\n",
    "Then we plot the confidnece levels with two colors to look at them clearly."
   ]
  },
  {
   "cell_type": "code",
   "execution_count": null,
   "metadata": {
    "colab": {
     "base_uri": "https://localhost:8080/",
     "height": 329
    },
    "executionInfo": {
     "elapsed": 668,
     "status": "ok",
     "timestamp": 1605413177508,
     "user": {
      "displayName": "Weiting Mo",
      "photoUrl": "https://lh3.googleusercontent.com/a-/AOh14GhIwNs3BEBEpt8AnnPKYhwISKgR6nowGmlskEk=s64",
      "userId": "09792540252495646996"
     },
     "user_tz": 300
    },
    "id": "AbN-s-YFFNoV",
    "outputId": "94b22baa-d816-4484-fca2-873526a5ee4c"
   },
   "outputs": [
    {
     "name": "stdout",
     "output_type": "stream",
     "text": [
      "t score: -0.2975907923339247\n",
      "p value: 0.7678596979730808\n"
     ]
    },
    {
     "data": {
      "image/png": "[encoded data removed]",
      "text/plain": [
       "<Figure size 432x288 with 1 Axes>"
      ]
     },
     "metadata": {
      "needs_background": "light",
      "tags": []
     },
     "output_type": "display_data"
    }
   ],
   "source": [
    "for i in range (myfile.shape[0]):\n",
    "    if myfile.iloc[i][7] == 0:\n",
    "        num_0.append(i)\n",
    "        confidence_level_0.append( max(myfile.iloc[i][3],myfile.iloc[i][4],myfile.iloc[i][5],myfile.iloc[i][6]))\n",
    "    else:\n",
    "        num_1.append(i)\n",
    "        confidence_level_1.append( max(myfile.iloc[i][3],myfile.iloc[i][4],myfile.iloc[i][5],myfile.iloc[i][6]))\n",
    "\n",
    "plt.plot(num_0,confidence_level_0,'ro',label=\"correct\")\n",
    "plt.plot(num_1,confidence_level_1,'bo',label = \"problematic\")\n",
    "plt.title(\"Does Amazon Comprehend Hesitate?\")\n",
    "plt.xlabel(\"review\")\n",
    "plt.ylabel(\"confidence level\")\n",
    "plt.legend(loc='lower right')"
   ]
  },
  {
   "cell_type": "markdown",
   "metadata": {
    "id": "SX6P86miGKH2"
   },
   "source": [
    "We notice that there are no significant difference between the two groups of outcome, which means that Amazon Comprehend is still confident enough, even when it commit a false interpretation. To testify this observation, we further conduct a T-test."
   ]
  },
  {
   "cell_type": "markdown",
   "metadata": {
    "id": "pKDygPjfFrxv"
   },
   "source": [
    "# Conducting a T-test between misinterpretations and the sample data."
   ]
  },
  {
   "cell_type": "code",
   "execution_count": null,
   "metadata": {
    "id": "lwXNRK_sFqXp"
   },
   "outputs": [],
   "source": [
    "mean_0 = statistics.mean(confidence_level_0)\n",
    "mean_1 = statistics.mean(confidence_level_1)\n",
    "\n",
    "t_score, p_value = stats.ttest_ind(confidence_level_0,confidence_level_1, equal_var = False)\n",
    "print(\"t score:\", t_score)\n",
    "print(\"p value:\", p_value)\n",
    "\n",
    "\n",
    "plt.show()"
   ]
  },
  {
   "cell_type": "markdown",
   "metadata": {
    "id": "yOIexPgCGFmd"
   },
   "source": [
    "The outcome shows that our observation is correct. Most of the time, Amazon Comprehend is confident even though it has a wrong interpretation."
   ]
  },
  {
   "cell_type": "markdown",
   "metadata": {
    "id": "2UvR4gFR3E7G"
   },
   "source": [
    "# What causes these misinterpretations?\n",
    "First, we create a column marking those wrong interpretations as 1 and the others as 0. Then we build a dictionary that corresponds to the number of comments that each word appears in. By identifying all the words that appear in at least 10 comments in our dataset, we gather the 15 words that contribute the most to the failure of Amazon Comprehend and the 15 words that could best free the sentiment analyze from errors."
   ]
  },
  {
   "cell_type": "code",
   "execution_count": null,
   "metadata": {
    "colab": {
     "base_uri": "https://localhost:8080/"
    },
    "executionInfo": {
     "elapsed": 332,
     "status": "ok",
     "timestamp": 1605411692041,
     "user": {
      "displayName": "Weiting Mo",
      "photoUrl": "https://lh3.googleusercontent.com/a-/AOh14GhIwNs3BEBEpt8AnnPKYhwISKgR6nowGmlskEk=s64",
      "userId": "09792540252495646996"
     },
     "user_tz": 300
    },
    "id": "5-zSeyA7xtxW",
    "outputId": "94f1d208-6c1b-4cf0-8bc9-b74324eb2904"
   },
   "outputs": [
    {
     "name": "stdout",
     "output_type": "stream",
     "text": [
      "[nltk_data] Downloading package punkt to /root/nltk_data...\n",
      "[nltk_data]   Package punkt is already up-to-date!\n"
     ]
    }
   ],
   "source": [
    "import argparse\n",
    "import numpy as np\n",
    "import pandas as pd\n",
    "import nltk\n",
    "nltk.download('punkt')\n",
    "from nltk.stem import PorterStemmer\n",
    "\n",
    "\n",
    "\n",
    "\n",
    "def model_assessment(filename):\n",
    "    stemming = PorterStemmer()\n",
    "    myfile = pd.read_csv('final_dataset1.csv')\n",
    "    my_data = myfile[\"review\"]\n",
    "    rows = myfile.shape[0]\n",
    "    num_reviews = rows\n",
    "    data = list()\n",
    "    r = [\"I\", \"and\", \"to\", \"a\" , \",\", \".\" , \"of\" , \"is\" , \"the\",\"it\", \"you\"]\n",
    "    for i in range (num_reviews):\n",
    "        word = list(nltk.word_tokenize(my_data[i])) ## split the comments into words\n",
    "\n",
    "        for k in r:\n",
    "            if k in word:\n",
    "                word.remove(k)\n",
    "\n",
    "        data.append([stemming.stem(w) for w in word]) ## delete stems such as \"ing\" and \"ed\"\n",
    "\n",
    "    data = np.array(data)\n",
    "    y = myfile[\"label\"]\n",
    "\n",
    "    xFeat = data\n",
    "\n",
    "    return xFeat, y ## we get the further cleaned dataset consists of all the words in their stem form\n",
    "\n",
    "\n",
    "def build_vocab_map(mydata): ## In this function, we identify all the words that appeared at least ten times in our dataset\n",
    "    num_comment = len(mydata)\n",
    "    vocab_all = {} ## vocab map for all the words\n",
    "    vocab_10 = {} ## vocab map for words frequency bigger than 10\n",
    "    vocab_boolean = {}  ## check if the word updated for this comment\n",
    "\n",
    "    for i in range(num_comment):\n",
    "        txt = mydata[i]\n",
    "        for j in txt:\n",
    "            if j not in vocab_all.keys(): ## if the word never appeared, update directly\n",
    "                vocab_all.update({j : 1})\n",
    "\n",
    "            else:\n",
    "                if j not in vocab_boolean.keys(): ## if the word appear in the current comment for the first time\n",
    "                    vocab_boolean.update({j:True}) ## set the boolean true\n",
    "\n",
    "                if vocab_boolean[j] is True: ## if it's the first time appeared in this comment\n",
    "                    vocab_all.update({j: vocab_all[j]+1}) ## update in the map\n",
    "\n",
    "                    if vocab_all[j] > 10:\n",
    "                        vocab_10.update({j: vocab_all[j]})\n",
    "\n",
    "                    vocab_boolean.update({j: False}) ## set the boolean false to indicate it already updated\n",
    "\n",
    "        vocab_boolean.clear() ## clean the boolean dictionary as finishing one comment\n",
    "\n",
    "    return vocab_10 \n",
    "\n",
    "\n",
    "def construct_binary(mydata,vocab_map): ## For each comment, we transform it into a feature vector, with 1 and 0.\n",
    "    lines = len(mydata)\n",
    "    binary_data = list()\n",
    "    for i in range(lines):\n",
    "        txt = mydata[i]\n",
    "        comment_dict = {}\n",
    "        comment_binary = list()\n",
    "        for word in txt:\n",
    "            comment_dict.update({word:0})\n",
    "        for key in vocab_map:\n",
    "            if key in comment_dict.keys():\n",
    "                comment_binary.append(1)\n",
    "            else:\n",
    "                comment_binary.append(0)\n",
    "        binary_data.append(comment_binary)\n",
    "\n",
    "    return binary_data \n",
    "\n",
    "\n",
    "\n",
    "\n",
    "\n"
   ]
  },
  {
   "cell_type": "markdown",
   "metadata": {
    "id": "_zGHwOWB-nke"
   },
   "source": [
    "Then we transfer text data into numerical data to enable the computer to calculate."
   ]
  },
  {
   "cell_type": "code",
   "execution_count": null,
   "metadata": {
    "id": "ve8VB-ZC-xo9"
   },
   "outputs": [],
   "source": [
    "def main():\n",
    "    \"\"\"\n",
    "    Main file to run from the command line.\n",
    "    \"\"\"\n",
    "    # set up the program to take in arguments from the command line\n",
    "    \n",
    "    xFeat, y = model_assessment(\"final_dataset1.csv\")\n",
    "    vocab_map = build_vocab_map(xFeat)\n",
    "    binary = construct_binary(xFeat, vocab_map)\n",
    "\n",
    "\n",
    "    y = pd.DataFrame(y, columns=['label'])\n",
    "\n",
    "    y.to_csv(\"y.csv\", index=False)\n",
    "\n",
    "    binary = pd.DataFrame(binary)\n",
    "    binary.columns = list(vocab_map.keys())\n",
    "    binary.to_csv(\"binary.csv\", index=False)\n",
    "\n",
    "\n",
    "if __name__ == \"__main__\":\n",
    "    main()"
   ]
  },
  {
   "cell_type": "markdown",
   "metadata": {
    "id": "bvP7z2HI_V8M"
   },
   "source": [
    "Here we obtain two csv files (binary.csv and y.csv). With these files, we could further calculate the weight of each word on contributing to the correctness of sentiment analyze."
   ]
  },
  {
   "cell_type": "code",
   "execution_count": null,
   "metadata": {
    "id": "_teP0x626vzm"
   },
   "outputs": [],
   "source": [
    "class Perceptron(object):\n",
    "    mEpoch = 1000  # maximum epoch size\n",
    "    w = None       # weights of the perceptron\n",
    "\n",
    "    def __init__(self, epoch):\n",
    "        self.mEpoch = epoch\n",
    "\n",
    "    def train(self, xFeat, y):\n",
    "        trainStats = {}\n",
    "        rows, cols = xFeat.shape\n",
    "        self.w = np.zeros(cols+1)\n",
    "\n",
    "        for epoch in range(self.mEpoch):\n",
    "            mistake = 0\n",
    "            for row, label in zip(xFeat, y):\n",
    "                prediction = np.dot(self.w[1:], row) + self.w[0]\n",
    "                if prediction >= 0:\n",
    "                    prediction = 1\n",
    "                else:\n",
    "                    prediction = 0\n",
    "                self.w[1:] += (label - prediction) * row\n",
    "                self.w[0] += label - prediction\n",
    "                if prediction != label:\n",
    "                    mistake =  mistake + 1\n",
    "\n",
    "            trainStats.update({epoch+1: mistake})\n",
    "            if mistake == 0:\n",
    "                break\n",
    "\n",
    "        return trainStats\n",
    "\n",
    "\n",
    "    def getWeight(self, xFeat):\n",
    "        weight = self.w[1:]\n",
    "        zipped = list(zip(weight,xFeat))\n",
    "        positive = sorted(zipped, key=lambda x: x[0],reverse= True)[0:14]\n",
    "        positive = [lis[1] for lis in positive]\n",
    "        negative = sorted(zipped, key=lambda x: x[0],reverse= False)[0:14]\n",
    "        negative = [lis[1] for lis in negative]\n",
    "        return positive, negative\n",
    "## here we sort the 15 words that contribute to rightness the most, and the 15 words that contribute the most to falsity.\n",
    "\n",
    "def file_to_numpy(filename):\n",
    "    \"\"\"\n",
    "    Read an input file and convert it to numpy\n",
    "    \"\"\"\n",
    "    df = pd.read_csv(filename)\n",
    "    return df.to_numpy()\n",
    "\n",
    "\n"
   ]
  },
  {
   "cell_type": "markdown",
   "metadata": {
    "id": "5u55L5mwBiJq"
   },
   "source": [
    "After a long process of setting up data and functions, we could finally test our Facebook data and find out those words with significan weight."
   ]
  },
  {
   "cell_type": "code",
   "execution_count": null,
   "metadata": {
    "colab": {
     "base_uri": "https://localhost:8080/"
    },
    "executionInfo": {
     "elapsed": 412,
     "status": "ok",
     "timestamp": 1605411733205,
     "user": {
      "displayName": "Weiting Mo",
      "photoUrl": "https://lh3.googleusercontent.com/a-/AOh14GhIwNs3BEBEpt8AnnPKYhwISKgR6nowGmlskEk=s64",
      "userId": "09792540252495646996"
     },
     "user_tz": 300
    },
    "id": "HrdB37ie7XiC",
    "outputId": "0a709a3c-679f-49b6-cd38-ffa687c23644"
   },
   "outputs": [
    {
     "name": "stdout",
     "output_type": "stream",
     "text": [
      "15 most positive words for binary dataset ['be', 'but', 'top', 'I', '“', '”', 'or', 'not', 'with', 'and', '!', 'now', 'the', 'my']\n",
      "15 most negative words for binary dataset ['from', 'are', 'time', 'facebook', 'post', 'of', 'it', '?', 'if', 'can', 'ha', 'left', 'app', 'have']\n"
     ]
    }
   ],
   "source": [
    "def main():\n",
    "    \"\"\"\n",
    "    Main file to run from the command line.\n",
    "    \"\"\"\n",
    "  \n",
    "    binary = file_to_numpy(\"binary.csv\")\n",
    "    binary_df = pd.read_csv(\"binary.csv\")\n",
    "    y = file_to_numpy(\"y.csv\")\n",
    "    np.random.seed(334)\n",
    "\n",
    "    model_binary = Perceptron(100)\n",
    "    model_binary.train(binary, y)\n",
    "\n",
    "    positive_binary, negative_binary = model_binary.getWeight(binary_df)\n",
    "    print(\"15 most positive words for binary dataset\", positive_binary)\n",
    "    print(\"15 most negative words for binary dataset\", negative_binary)\n",
    "\n",
    "\n",
    "\n",
    "if __name__ == \"__main__\":\n",
    "    main()"
   ]
  },
  {
   "cell_type": "markdown",
   "metadata": {
    "id": "CtqOIAMXB3m3"
   },
   "source": [
    "Most of the words that we get seem unnecessary for further analyze. We realize that the dataset has a limit scale, yet we are still happy with the effort that we paid on develping this method, and we could use it in the further when we have larger data to analyze. However, we do identify a few interesing words and syntaxes that requires further research."
   ]
  },
  {
   "cell_type": "markdown",
   "metadata": {
    "id": "dV9cmym0XZzy"
   },
   "source": [
    "# Constructing our own dataset with controlled variables.\n",
    "According to our data, we identified two words, “would” and “but”, and two syntaxes, exclamation mark and quotation mark.  Thus, we create our own dataset, controlling these variables. Here is the data that we create."
   ]
  },
  {
   "cell_type": "code",
   "execution_count": null,
   "metadata": {
    "colab": {
     "base_uri": "https://localhost:8080/",
     "height": 762
    },
    "executionInfo": {
     "elapsed": 258,
     "status": "ok",
     "timestamp": 1605418179109,
     "user": {
      "displayName": "Weiting Mo",
      "photoUrl": "https://lh3.googleusercontent.com/a-/AOh14GhIwNs3BEBEpt8AnnPKYhwISKgR6nowGmlskEk=s64",
      "userId": "09792540252495646996"
     },
     "user_tz": 300
    },
    "id": "bm7oxqPrYKWh",
    "outputId": "9d4c4395-625e-40d0-e98a-ca222af84995"
   },
   "outputs": [
    {
     "data": {
      "text/html": [
       "<div>\n",
       "<style scoped>\n",
       "    .dataframe tbody tr th:only-of-type {\n",
       "        vertical-align: middle;\n",
       "    }\n",
       "\n",
       "    .dataframe tbody tr th {\n",
       "        vertical-align: top;\n",
       "    }\n",
       "\n",
       "    .dataframe thead th {\n",
       "        text-align: right;\n",
       "    }\n",
       "</style>\n",
       "<table border=\"1\" class=\"dataframe\">\n",
       "  <thead>\n",
       "    <tr style=\"text-align: right;\">\n",
       "      <th></th>\n",
       "      <th>\"\" but ! would</th>\n",
       "      <th>Unnamed: 1</th>\n",
       "      <th>Unnamed: 2</th>\n",
       "      <th>Unnamed: 3</th>\n",
       "      <th>Unnamed: 4</th>\n",
       "    </tr>\n",
       "  </thead>\n",
       "  <tbody>\n",
       "    <tr>\n",
       "      <th>0</th>\n",
       "      <td>review</td>\n",
       "      <td>mixed</td>\n",
       "      <td>negative</td>\n",
       "      <td>neutral</td>\n",
       "      <td>positive</td>\n",
       "    </tr>\n",
       "    <tr>\n",
       "      <th>1</th>\n",
       "      <td>I don’t really like this latest update. I woul...</td>\n",
       "      <td>0</td>\n",
       "      <td>0.98</td>\n",
       "      <td>0.01</td>\n",
       "      <td>0</td>\n",
       "    </tr>\n",
       "    <tr>\n",
       "      <th>2</th>\n",
       "      <td>I don't really like this latest update. I like...</td>\n",
       "      <td>0</td>\n",
       "      <td>0.99</td>\n",
       "      <td>0</td>\n",
       "      <td>0</td>\n",
       "    </tr>\n",
       "    <tr>\n",
       "      <th>3</th>\n",
       "      <td>This latest update provides \"freedom\". Very co...</td>\n",
       "      <td>0</td>\n",
       "      <td>0</td>\n",
       "      <td>0.13</td>\n",
       "      <td>0.86</td>\n",
       "    </tr>\n",
       "    <tr>\n",
       "      <th>4</th>\n",
       "      <td>This latest update provides freedom. Very cont...</td>\n",
       "      <td>0</td>\n",
       "      <td>0</td>\n",
       "      <td>0.02</td>\n",
       "      <td>0.96</td>\n",
       "    </tr>\n",
       "    <tr>\n",
       "      <th>5</th>\n",
       "      <td>Such a \"good\" update. Utter trash.</td>\n",
       "      <td>0</td>\n",
       "      <td>0.98</td>\n",
       "      <td>0</td>\n",
       "      <td>0</td>\n",
       "    </tr>\n",
       "    <tr>\n",
       "      <th>6</th>\n",
       "      <td>Such a good update. Utter trash.</td>\n",
       "      <td>0.03</td>\n",
       "      <td>0.78</td>\n",
       "      <td>0</td>\n",
       "      <td>0.17</td>\n",
       "    </tr>\n",
       "    <tr>\n",
       "      <th>7</th>\n",
       "      <td>I'm \"happy\" with the latest update. Free us al...</td>\n",
       "      <td>0</td>\n",
       "      <td>0.39</td>\n",
       "      <td>0.06</td>\n",
       "      <td>0.53</td>\n",
       "    </tr>\n",
       "    <tr>\n",
       "      <th>8</th>\n",
       "      <td>I'm happy with the latest update. Free us all ...</td>\n",
       "      <td>0</td>\n",
       "      <td>0</td>\n",
       "      <td>0</td>\n",
       "      <td>0.99</td>\n",
       "    </tr>\n",
       "    <tr>\n",
       "      <th>9</th>\n",
       "      <td>I love the old version, but the latest update ...</td>\n",
       "      <td>0.99</td>\n",
       "      <td>0</td>\n",
       "      <td>0</td>\n",
       "      <td>0</td>\n",
       "    </tr>\n",
       "    <tr>\n",
       "      <th>10</th>\n",
       "      <td>I love the old version. The latest update is bad.</td>\n",
       "      <td>0.99</td>\n",
       "      <td>0</td>\n",
       "      <td>0</td>\n",
       "      <td>0</td>\n",
       "    </tr>\n",
       "    <tr>\n",
       "      <th>11</th>\n",
       "      <td>I like the app, but sometimes the back button ...</td>\n",
       "      <td>0.99</td>\n",
       "      <td>0</td>\n",
       "      <td>0</td>\n",
       "      <td>0</td>\n",
       "    </tr>\n",
       "    <tr>\n",
       "      <th>12</th>\n",
       "      <td>I like the app. The back button doesn't work.</td>\n",
       "      <td>0.99</td>\n",
       "      <td>0</td>\n",
       "      <td>0</td>\n",
       "      <td>0</td>\n",
       "    </tr>\n",
       "    <tr>\n",
       "      <th>13</th>\n",
       "      <td>The latest version is great, but there are som...</td>\n",
       "      <td>0.99</td>\n",
       "      <td>0</td>\n",
       "      <td>0</td>\n",
       "      <td>0</td>\n",
       "    </tr>\n",
       "    <tr>\n",
       "      <th>14</th>\n",
       "      <td>The latest version is great. There are some sm...</td>\n",
       "      <td>0.7</td>\n",
       "      <td>0</td>\n",
       "      <td>0</td>\n",
       "      <td>0.29</td>\n",
       "    </tr>\n",
       "    <tr>\n",
       "      <th>15</th>\n",
       "      <td>Get our freedom back!</td>\n",
       "      <td>0</td>\n",
       "      <td>0.68</td>\n",
       "      <td>0.16</td>\n",
       "      <td>0.16</td>\n",
       "    </tr>\n",
       "    <tr>\n",
       "      <th>16</th>\n",
       "      <td>Get our freedom back.</td>\n",
       "      <td>0</td>\n",
       "      <td>0.83</td>\n",
       "      <td>0.11</td>\n",
       "      <td>0.05</td>\n",
       "    </tr>\n",
       "    <tr>\n",
       "      <th>17</th>\n",
       "      <td>This app is utter trash!!!</td>\n",
       "      <td>0</td>\n",
       "      <td>0.99</td>\n",
       "      <td>0</td>\n",
       "      <td>0</td>\n",
       "    </tr>\n",
       "    <tr>\n",
       "      <th>18</th>\n",
       "      <td>This app is utter trash.</td>\n",
       "      <td>0</td>\n",
       "      <td>0.99</td>\n",
       "      <td>0</td>\n",
       "      <td>0</td>\n",
       "    </tr>\n",
       "    <tr>\n",
       "      <th>19</th>\n",
       "      <td>Such a \"good\" update.</td>\n",
       "      <td>0.21</td>\n",
       "      <td>0.24</td>\n",
       "      <td>0.15</td>\n",
       "      <td>0.37</td>\n",
       "    </tr>\n",
       "    <tr>\n",
       "      <th>20</th>\n",
       "      <td>Such a good update.</td>\n",
       "      <td>0</td>\n",
       "      <td>0.01</td>\n",
       "      <td>0.03</td>\n",
       "      <td>0.95</td>\n",
       "    </tr>\n",
       "    <tr>\n",
       "      <th>21</th>\n",
       "      <td>I used to love the old version, but not this one.</td>\n",
       "      <td>0</td>\n",
       "      <td>0.95</td>\n",
       "      <td>0.02</td>\n",
       "      <td>0.02</td>\n",
       "    </tr>\n",
       "    <tr>\n",
       "      <th>22</th>\n",
       "      <td>I used to love the old version. Not this one.</td>\n",
       "      <td>0</td>\n",
       "      <td>0.94</td>\n",
       "      <td>0.01</td>\n",
       "      <td>0.03</td>\n",
       "    </tr>\n",
       "  </tbody>\n",
       "</table>\n",
       "</div>"
      ],
      "text/plain": [
       "                                      \"\" but ! would   ... Unnamed: 4\n",
       "0                                              review  ...   positive\n",
       "1   I don’t really like this latest update. I woul...  ...          0\n",
       "2   I don't really like this latest update. I like...  ...          0\n",
       "3   This latest update provides \"freedom\". Very co...  ...       0.86\n",
       "4   This latest update provides freedom. Very cont...  ...       0.96\n",
       "5                 Such a \"good\" update. Utter trash.   ...          0\n",
       "6                    Such a good update. Utter trash.  ...       0.17\n",
       "7   I'm \"happy\" with the latest update. Free us al...  ...       0.53\n",
       "8   I'm happy with the latest update. Free us all ...  ...       0.99\n",
       "9   I love the old version, but the latest update ...  ...          0\n",
       "10  I love the old version. The latest update is bad.  ...          0\n",
       "11  I like the app, but sometimes the back button ...  ...          0\n",
       "12     I like the app. The back button doesn't work.   ...          0\n",
       "13  The latest version is great, but there are som...  ...          0\n",
       "14  The latest version is great. There are some sm...  ...       0.29\n",
       "15                              Get our freedom back!  ...       0.16\n",
       "16                             Get our freedom back.   ...       0.05\n",
       "17                         This app is utter trash!!!  ...          0\n",
       "18                          This app is utter trash.   ...          0\n",
       "19                             Such a \"good\" update.   ...       0.37\n",
       "20                               Such a good update.   ...       0.95\n",
       "21  I used to love the old version, but not this one.  ...       0.02\n",
       "22      I used to love the old version. Not this one.  ...       0.03\n",
       "\n",
       "[23 rows x 5 columns]"
      ]
     },
     "execution_count": 43,
     "metadata": {
      "tags": []
     },
     "output_type": "execute_result"
    }
   ],
   "source": [
    "ownData = pd.read_csv('owndata2.csv')\n",
    "ownData"
   ]
  },
  {
   "cell_type": "markdown",
   "metadata": {
    "id": "sC7QPtzJZEBe"
   },
   "source": [
    "## How does \" \" help?"
   ]
  },
  {
   "cell_type": "code",
   "execution_count": null,
   "metadata": {
    "colab": {
     "base_uri": "https://localhost:8080/"
    },
    "executionInfo": {
     "elapsed": 748,
     "status": "ok",
     "timestamp": 1605418355555,
     "user": {
      "displayName": "Weiting Mo",
      "photoUrl": "https://lh3.googleusercontent.com/a-/AOh14GhIwNs3BEBEpt8AnnPKYhwISKgR6nowGmlskEk=s64",
      "userId": "09792540252495646996"
     },
     "user_tz": 300
    },
    "id": "q6D9QC3hYmeq",
    "outputId": "515efecc-95f8-493c-cf11-c42c13ee1741"
   },
   "outputs": [
    {
     "name": "stdout",
     "output_type": "stream",
     "text": [
      "                                     \"\" but ! would   ... Unnamed: 4\n",
      "3  This latest update provides \"freedom\". Very co...  ...       0.86\n",
      "4  This latest update provides freedom. Very cont...  ...       0.96\n",
      "5                Such a \"good\" update. Utter trash.   ...          0\n",
      "6                   Such a good update. Utter trash.  ...       0.17\n",
      "7  I'm \"happy\" with the latest update. Free us al...  ...       0.53\n",
      "8  I'm happy with the latest update. Free us all ...  ...       0.99\n",
      "\n",
      "[6 rows x 5 columns]\n"
     ]
    }
   ],
   "source": [
    "ownData_1= ownData.iloc[3:9,:]\n",
    "print(ownData_1)"
   ]
  },
  {
   "cell_type": "markdown",
   "metadata": {
    "id": "hK0r7XhxpxCP"
   },
   "source": [
    "Based on the results for our own data, we believe that quotation marks help Amazon Comprehend to interpret sarcasm to a certain extent. Take the sentence \"This latest update provides \"freedom\". Very controlling.\" as an example, when we added quotation marks for the word freedom, the confidence interval of the positive sentiment score reduced from 0.96 to 0.86. Although the result still did not reflect the reviewer's actual sentiment, it does show that Amazon Comprehend can interpret sarcasm to a certain extent through the usage of quotation marks. Additionally, another example showed a more significant change of the result: \"Such a \"good\" update.\" The confidence level of the positive sentiment score dropped from 0.95 to 0.37. It still led to a positive sentiment score, but the information illustrated that Amazon Comprehend can detect sarcasm through quotation mark. The reason why both examples still resulted in positive sentiments is probably because Amazon Comprehend put more weights on the word \"good\" or \"freedom\" in these two cases. "
   ]
  },
  {
   "cell_type": "markdown",
   "metadata": {
    "id": "qTFDsT7uZPJZ"
   },
   "source": [
    "## What about !"
   ]
  },
  {
   "cell_type": "code",
   "execution_count": null,
   "metadata": {
    "colab": {
     "base_uri": "https://localhost:8080/"
    },
    "executionInfo": {
     "elapsed": 275,
     "status": "ok",
     "timestamp": 1605418519191,
     "user": {
      "displayName": "Weiting Mo",
      "photoUrl": "https://lh3.googleusercontent.com/a-/AOh14GhIwNs3BEBEpt8AnnPKYhwISKgR6nowGmlskEk=s64",
      "userId": "09792540252495646996"
     },
     "user_tz": 300
    },
    "id": "iNuo033bZaqG",
    "outputId": "38b0bd13-07a2-47bd-a374-ce8bfb789eac"
   },
   "outputs": [
    {
     "name": "stdout",
     "output_type": "stream",
     "text": [
      "               \"\" but ! would  Unnamed: 1 Unnamed: 2 Unnamed: 3 Unnamed: 4\n",
      "15       Get our freedom back!          0       0.68       0.16       0.16\n",
      "16      Get our freedom back.           0       0.83       0.11       0.05\n",
      "17  This app is utter trash!!!          0       0.99          0          0\n",
      "18   This app is utter trash.           0       0.99          0          0\n"
     ]
    }
   ],
   "source": [
    "ownData_2= ownData.iloc[15:19,:]\n",
    "print(ownData_2)"
   ]
  },
  {
   "cell_type": "markdown",
   "metadata": {
    "id": "3rvDMfHnZ3jP"
   },
   "source": [
    "Now, let's take a closer look at the exclamation mark. It turned out that exclamation marks did not have much impact on the reviews that contained a strong sentiment word like \"trash\", as Amazon Comprehend can interpret very emotional words. However, when the word choice became more positive or neutral like the example: \"Get our freedom back,\" exclamation marks tended to confuse Amazon Comprehend. As we can see, the confidence interval of negative sentiment dropped from 0.83 to 0.68. Supposedly, the confidence interval of the negative sentiment should increase; but in this case, it dropped a lot. We think that word choice is still a major determinant, but exclamation marks will lead to a more positive result as most of the time people use exclamation marks to express excitements. "
   ]
  },
  {
   "cell_type": "markdown",
   "metadata": {
    "id": "lY2idl1gu0OB"
   },
   "source": [
    "##Conclusion\n",
    "\n",
    "According to our own data, we find that the word \"would\" and \"but\" have limited or no impact on the confidence interval of the sentiment score that Amazon Comprehend generate, while puntuations, like quotation marks and exclamation marks, tend to have certain impact on the results.  The reason why \"would\" and \"but\" do not have any impact is that these two words are very neutral. Amazon Comprehend are more capable of interpretating emotional words. From the results, we can also tell that Amazon Comprehend probably puts more weights on words with strong sentiments than on syntaxes."
   ]
  }
 ],
 "metadata": {
  "colab": {
   "collapsed_sections": [],
   "name": "perceptron.ipynb",
   "provenance": [
    {
     "file_id": "1t_YSkOBmq2bfPT4DZQz_bTZSkywz66SM",
     "timestamp": 1605447434311
    }
   ],
   "toc_visible": true
  },
  "kernelspec": {
   "display_name": "Python 3",
   "language": "python",
   "name": "python3"
  },
  "language_info": {
   "codemirror_mode": {
    "name": "ipython",
    "version": 3
   },
   "file_extension": ".py",
   "mimetype": "text/x-python",
   "name": "python",
   "nbconvert_exporter": "python",
   "pygments_lexer": "ipython3",
   "version": "3.8.3"
  }
 },
 "nbformat": 4,
 "nbformat_minor": 0
}
